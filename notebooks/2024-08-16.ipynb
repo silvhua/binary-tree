{
 "cells": [
  {
   "attachments": {},
   "cell_type": "markdown",
   "metadata": {},
   "source": [
    "# Title\n",
    "[]()"
   ]
  },
  {
   "cell_type": "code",
   "execution_count": 1,
   "metadata": {},
   "outputs": [],
   "source": [
    "import sys\n",
    "sys.path.append(r\"../utils\")\n",
    "from Custom_Logger import *"
   ]
  },
  {
   "cell_type": "markdown",
   "metadata": {},
   "source": [
    "# Iteration 1"
   ]
  },
  {
   "cell_type": "code",
   "execution_count": 2,
   "metadata": {},
   "outputs": [
    {
     "name": "stderr",
     "output_type": "stream",
     "text": [
      "2024-08-17 16:42:02,900 - Custom_Logger - ERROR:\n",
      "Value 5 already exists in tree.\n",
      "\n"
     ]
    },
    {
     "name": "stdout",
     "output_type": "stream",
     "text": [
      "5\n"
     ]
    }
   ],
   "source": [
    "class Tree:\n",
    "  def __init__(self, value, logger=None):\n",
    "    self.logger = Custom_Logger(level='INFO') if logger == None else logger\n",
    "    self.left = None\n",
    "    self.right = None\n",
    "    self.value = value\n",
    "\n",
    "  def insert(self, value):\n",
    "    if self.value == None:\n",
    "      self.value = value\n",
    "    elif self.value > value:\n",
    "      if self.left:\n",
    "        self.left = self.left.insert(value)\n",
    "      else:\n",
    "        self.left = Tree(value)\n",
    "    elif self.value < value:\n",
    "      if self.right:\n",
    "        self.right = self.right.insert(value)\n",
    "      else:\n",
    "        self.right = Tree(value)\n",
    "    elif self.value == value:\n",
    "      self.logger.error(f'Value {value} already exists in tree.')\n",
    "\n",
    "\n",
    "tree = Tree(5)\n",
    "tree.insert(5)\n",
    "\n",
    "print(tree.value)\n",
    "\n",
    "    "
   ]
  },
  {
   "cell_type": "markdown",
   "metadata": {},
   "source": [
    "## 1.1"
   ]
  },
  {
   "cell_type": "code",
   "execution_count": 22,
   "metadata": {},
   "outputs": [
    {
     "name": "stderr",
     "output_type": "stream",
     "text": [
      "2024-08-17 17:14:51,360 - Custom_Logger - INFO:\n",
      "Inserted value 5 to left of parent 10\n",
      "\n",
      "2024-08-17 17:14:51,362 - Custom_Logger - INFO:\n",
      "Inserted value 15 to right of parent 10\n",
      "\n",
      "2024-08-17 17:14:51,364 - Custom_Logger - INFO:\n",
      "Inserted value 12 to left of parent 15\n",
      "\n",
      "2024-08-17 17:14:51,366 - Custom_Logger - INFO:\n",
      "Inserted value 18 to right of parent 10\n",
      "\n"
     ]
    },
    {
     "name": "stdout",
     "output_type": "stream",
     "text": [
      "left:\n",
      "left:\n",
      "None\n",
      "5\n",
      "right\n",
      "None\n",
      "10\n",
      "right\n",
      "left:\n",
      "None\n",
      "18\n",
      "right\n",
      "None\n"
     ]
    },
    {
     "data": {
      "text/plain": [
       "[5, 10, 18]"
      ]
     },
     "execution_count": 22,
     "metadata": {},
     "output_type": "execute_result"
    }
   ],
   "source": [
    "import sys\n",
    "sys.path.append(r\"../utils\")\n",
    "from Custom_Logger import *\n",
    "\n",
    "class Tree:\n",
    "  def __init__(self, value, logger=None, logging_level='INFO'):\n",
    "    self.logger = Custom_Logger(level=logging_level) if logger == None else logger\n",
    "    self.left = None\n",
    "    self.right = None\n",
    "    self.value = value\n",
    "    self.logging_level=logging_level\n",
    "\n",
    "  def insert(self, value, parent=None):\n",
    "    parent = parent if parent else self.value\n",
    "    if self.value == None:\n",
    "      self.value = value\n",
    "      \n",
    "      # print(f'Inserted value {value} to node')\n",
    "      self.logger.info(f'Inserted value {value} to node')\n",
    "    elif self.value > value:\n",
    "      if self.left:\n",
    "        self.left = self.left.insert(value, self.left.value)\n",
    "      else:\n",
    "        self.left = Tree(value, logging_level=self.logging_level)\n",
    "        self.logger.info(f'Inserted value {value} to left of parent {parent}')\n",
    "    elif self.value < value:\n",
    "      if self.right:\n",
    "        self.right = self.right.insert(value, self.right.value)\n",
    "      else:\n",
    "        self.right = Tree(value, logging_level=self.logging_level)\n",
    "        self.logger.info(f'Inserted value {value} to right of parent {parent}')\n",
    "    elif self.value == value:\n",
    "      self.logger.warning(f'Value {value} already exists in tree.')\n",
    "\n",
    "def inorder(tree, result=[]):\n",
    "  if tree:\n",
    "    print('left:')\n",
    "    inorder(tree.left, result=result)\n",
    "    result.append(tree.value)\n",
    "    print(tree.value)\n",
    "    print('right')\n",
    "    inorder(tree.right, result=result)\n",
    "  else:\n",
    "    print(tree)\n",
    "  return result\n",
    "\n",
    "# logging_level='WARNING'\n",
    "# logging_level='DEBUG'\n",
    "logging_level='INFO'\n",
    "tree = Tree(10, logging_level=logging_level)\n",
    "tree.insert(5)\n",
    "tree.insert(15)\n",
    "tree.insert(12)\n",
    "tree.insert(18)\n",
    "\n",
    "inorder(tree)\n",
    "\n",
    "    "
   ]
  },
  {
   "cell_type": "code",
   "execution_count": 19,
   "metadata": {},
   "outputs": [
    {
     "data": {
      "text/plain": [
       "18"
      ]
     },
     "execution_count": 19,
     "metadata": {},
     "output_type": "execute_result"
    }
   ],
   "source": [
    "tree.right.value"
   ]
  },
  {
   "cell_type": "code",
   "execution_count": 23,
   "metadata": {},
   "outputs": [
    {
     "data": {
      "text/plain": [
       "5"
      ]
     },
     "execution_count": 23,
     "metadata": {},
     "output_type": "execute_result"
    }
   ],
   "source": [
    "tree.left.value"
   ]
  },
  {
   "cell_type": "markdown",
   "metadata": {},
   "source": [
    "## 1.2"
   ]
  },
  {
   "cell_type": "code",
   "execution_count": 5,
   "metadata": {},
   "outputs": [
    {
     "name": "stderr",
     "output_type": "stream",
     "text": [
      "2024-08-17 19:09:38,912 - Custom_Logger - INFO:\n",
      "Creating node with value 10\n",
      "parent: 10; value: 5\n",
      "\n",
      "2024-08-17 19:09:38,916 - Custom_Logger - INFO:\n",
      "Creating node with value 10\n",
      "parent: 10; value: 5\n",
      "parent: 10; value: 15\n",
      "\n",
      "2024-08-17 19:09:38,917 - Custom_Logger - INFO:\n",
      "Creating node with value 10\n",
      "parent: 10; value: 5\n",
      "parent: 10; value: 15\n",
      "parent: 10; value: 12\n",
      "parent: 15; value: 12\n",
      "\n",
      "2024-08-17 19:09:38,919 - Custom_Logger - INFO:\n",
      "Creating node with value 10\n",
      "parent: 10; value: 5\n",
      "parent: 10; value: 15\n",
      "parent: 10; value: 12\n",
      "parent: 15; value: 12\n",
      "\n"
     ]
    }
   ],
   "source": [
    "import sys\n",
    "sys.path.append(r\"../utils\")\n",
    "from Custom_Logger import *\n",
    "\n",
    "class Tree:\n",
    "  def __init__(self, value, messages=None, logger=None, logging_level='INFO'):\n",
    "    self.logger = Custom_Logger(level=logging_level) if logger == None else logger\n",
    "    self.left = None\n",
    "    self.right = None\n",
    "    self.value = value\n",
    "    self.logging_level=logging_level\n",
    "    self.messages = messages if messages else [f'Creating node with value {value}']\n",
    "\n",
    "  def insert(self, value, parent=None):\n",
    "    parent = parent if parent else self.value\n",
    "    self.messages.append(f'parent: {parent}; value: {value}')\n",
    "    if self.value == None:\n",
    "      self.value = value\n",
    "      self.logger.info(f'Inserted value {value} to node')\n",
    "    elif self.value > value:\n",
    "      if self.left:\n",
    "        self.left = self.left.insert(value, self.left.value)\n",
    "        # self.messages.append(f'left node value: {self.left.value}')\n",
    "      else:\n",
    "        self.left = Tree(value, messages=self.messages, logging_level=self.logging_level)\n",
    "    elif self.value < value:\n",
    "      if self.right:\n",
    "        # self.messages.append(f'right node value: {self.right.value}')\n",
    "        self.right = self.right.insert(value, self.right.value)\n",
    "      else:\n",
    "        self.right = Tree(value, messages=self.messages, logging_level=self.logging_level)\n",
    "    elif self.value == value:\n",
    "      self.logger.warning(f'Value {value} already exists in tree.')\n",
    "    self.logger.info('\\n'.join(self.messages))\n",
    "\n",
    "def inorder(tree, result=[]):\n",
    "  if tree:\n",
    "    # print('left:')\n",
    "    inorder(tree.left, result=result)\n",
    "    result.append(tree.value)\n",
    "    print(tree.value)\n",
    "    # print('right')\n",
    "    inorder(tree.right, result=result)\n",
    "  else:\n",
    "    print(tree)\n",
    "  return result\n",
    "\n",
    "# logging_level='WARNING'\n",
    "# logging_level='DEBUG'\n",
    "logging_level='INFO'\n",
    "tree = Tree(10, logging_level=logging_level)\n",
    "tree.insert(5)\n",
    "tree.insert(15)\n",
    "tree.insert(12)\n",
    "# tree.insert(18)\n",
    "\n",
    "# inorder(tree)\n",
    "\n",
    "    "
   ]
  },
  {
   "cell_type": "code",
   "execution_count": 60,
   "metadata": {},
   "outputs": [
    {
     "data": {
      "text/plain": [
       "5"
      ]
     },
     "execution_count": 60,
     "metadata": {},
     "output_type": "execute_result"
    }
   ],
   "source": [
    "tree.left.value"
   ]
  },
  {
   "cell_type": "code",
   "execution_count": 6,
   "metadata": {},
   "outputs": [
    {
     "ename": "AttributeError",
     "evalue": "'NoneType' object has no attribute 'value'",
     "output_type": "error",
     "traceback": [
      "\u001b[1;31m---------------------------------------------------------------------------\u001b[0m",
      "\u001b[1;31mAttributeError\u001b[0m                            Traceback (most recent call last)",
      "Cell \u001b[1;32mIn[6], line 1\u001b[0m\n\u001b[1;32m----> 1\u001b[0m tree\u001b[38;5;241m.\u001b[39mright\u001b[38;5;241m.\u001b[39mvalue\n",
      "\u001b[1;31mAttributeError\u001b[0m: 'NoneType' object has no attribute 'value'"
     ]
    }
   ],
   "source": [
    "tree.right.value"
   ]
  },
  {
   "cell_type": "markdown",
   "metadata": {},
   "source": [
    "## 1.3"
   ]
  },
  {
   "cell_type": "code",
   "execution_count": 48,
   "metadata": {},
   "outputs": [
    {
     "name": "stderr",
     "output_type": "stream",
     "text": [
      "2024-08-17 19:38:47,114 - Custom_Logger - INFO:\n",
      "Creating child in parent None with value 10\n",
      "Inserting 5 into left side.\n",
      "\n",
      "2024-08-17 19:38:47,114 - Custom_Logger - INFO:\n",
      "Creating child in parent None with value 10\n",
      "Inserting 5 into left side.\n",
      "Inserting 15 into right side.\n",
      "\n",
      "2024-08-17 19:38:47,114 - Custom_Logger - INFO:\n",
      "Creating child in parent None with value 10\n",
      "Inserting 5 into left side.\n",
      "Inserting 15 into right side.\n",
      "Inserting 12 into left side.\n",
      "\n",
      "2024-08-17 19:38:47,114 - Custom_Logger - INFO:\n",
      "Creating child in parent None with value 10\n",
      "Inserting 5 into left side.\n",
      "Inserting 15 into right side.\n",
      "Inserting 12 into left side.\n",
      "\n",
      "2024-08-17 19:38:47,114 - Custom_Logger - INFO:\n",
      "Creating child in parent None with value 10\n",
      "Inserting 5 into left side.\n",
      "Inserting 15 into right side.\n",
      "Inserting 12 into left side.\n",
      "Inserting 18 into right side.\n",
      "\n",
      "2024-08-17 19:38:47,121 - Custom_Logger - INFO:\n",
      "Creating child in parent None with value 10\n",
      "Inserting 5 into left side.\n",
      "Inserting 15 into right side.\n",
      "Inserting 12 into left side.\n",
      "Inserting 18 into right side.\n",
      "\n"
     ]
    },
    {
     "data": {
      "text/plain": [
       "[5, 10, 12, 15, 18]"
      ]
     },
     "execution_count": 48,
     "metadata": {},
     "output_type": "execute_result"
    }
   ],
   "source": [
    "import sys\n",
    "sys.path.append(r\"../utils\")\n",
    "from Custom_Logger import *\n",
    "\n",
    "class Tree:\n",
    "  def __init__(self, value, parent=None, messages=None, logger=None, logging_level='INFO'):\n",
    "    self.logger = Custom_Logger(level=logging_level) if logger == None else logger\n",
    "    self.left = None\n",
    "    self.right = None\n",
    "    self.value = value\n",
    "    self.parent=parent\n",
    "    self.logging_level=logging_level\n",
    "    message = f'Creating child in parent {parent} with value {value}'\n",
    "\n",
    "    if messages:\n",
    "      self.messages = messages\n",
    "    else:\n",
    "      self.messages = [message]\n",
    "\n",
    "  def insert(self, value):\n",
    "    if self.value == None:\n",
    "      self.value = value\n",
    "      self.logger.info(f'Inserted value {value} to node')\n",
    "    elif self.value > value:\n",
    "      if self.left:\n",
    "        self.left = self.left.insert(value)\n",
    "      else:\n",
    "        message = f'Inserting {value} into left side.'\n",
    "        self.messages.append(message)\n",
    "        self.left = Tree(value, parent=self.value, messages=self.messages, logging_level=self.logging_level)\n",
    "    elif self.value < value:\n",
    "      if self.right:\n",
    "        self.right = self.right.insert(value)\n",
    "      else:\n",
    "        message = f'Inserting {value} into right side.'\n",
    "        self.messages.append(message)\n",
    "        self.right = Tree(value, parent=self.value, messages=self.messages, logging_level=self.logging_level)\n",
    "        # self.logger.info(f'Self.right: {self.right.value}')\n",
    "    elif self.value == value:\n",
    "      self.logger.warning(f'Value {value} already exists in tree.')\n",
    "    self.logger.info('\\n'.join(self.messages))\n",
    "    return self\n",
    "\n",
    "def inorder(tree, result=[]):\n",
    "  if tree:\n",
    "    inorder(tree.left, result=result)\n",
    "    result.append(tree.value)\n",
    "    inorder(tree.right, result=result)\n",
    "  return result\n",
    "\n",
    "def print_node(node):\n",
    "  message = f\"\"\"\n",
    "Node value: {node.value}. \n",
    "Left child value: {node.left.value if node.left else None}. \n",
    "Right child value: {node.right.value if node.right else None}.\n",
    "  \"\"\"\n",
    "  print(message)\n",
    "\n",
    "# logging_level='WARNING'\n",
    "# logging_level='DEBUG'\n",
    "logging_level='INFO'\n",
    "tree = Tree(10, logging_level=logging_level)\n",
    "tree.insert(5)\n",
    "tree.insert(15)\n",
    "tree.insert(12)\n",
    "tree.insert(18)\n",
    "\n",
    "# print_node(tree)\n",
    "inorder(tree)\n",
    "\n",
    "    "
   ]
  },
  {
   "cell_type": "markdown",
   "metadata": {},
   "source": [
    "## 1.4"
   ]
  },
  {
   "cell_type": "code",
   "execution_count": 66,
   "metadata": {},
   "outputs": [
    {
     "name": "stderr",
     "output_type": "stream",
     "text": [
      "2024-08-17 19:50:35,127 - Custom_Logger - INFO:\n",
      "Creating child in parent None with value 10. \n",
      "Inserting 5 to left side. Creating child in parent 10 with value 5.\n",
      "\n",
      "2024-08-17 19:50:35,128 - Custom_Logger - INFO:\n",
      "Creating child in parent None with value 10. \n",
      "Inserting 5 to left side. Creating child in parent 10 with value 5. \n",
      "Inserting 15 to right side. Creating child in parent 10 with value 15.\n",
      "\n",
      "2024-08-17 19:50:35,129 - Custom_Logger - INFO:\n",
      "Creating child in parent None with value 10. \n",
      "Inserting 5 to left side. Creating child in parent 10 with value 5. \n",
      "Inserting 15 to right side. Creating child in parent 10 with value 15. \n",
      "Inserting 12 to left side. Creating child in parent 15 with value 12.\n",
      "\n",
      "2024-08-17 19:50:35,134 - Custom_Logger - INFO:\n",
      "Creating child in parent None with value 10. \n",
      "Inserting 5 to left side. Creating child in parent 10 with value 5. \n",
      "Inserting 15 to right side. Creating child in parent 10 with value 15. \n",
      "Inserting 12 to left side. Creating child in parent 15 with value 12.\n",
      "\n",
      "2024-08-17 19:50:35,134 - Custom_Logger - INFO:\n",
      "Creating child in parent None with value 10. \n",
      "Inserting 5 to left side. Creating child in parent 10 with value 5. \n",
      "Inserting 15 to right side. Creating child in parent 10 with value 15. \n",
      "Inserting 12 to left side. Creating child in parent 15 with value 12. \n",
      "Inserting 18 to right side. Creating child in parent 15 with value 18.\n",
      "\n",
      "2024-08-17 19:50:35,134 - Custom_Logger - INFO:\n",
      "Creating child in parent None with value 10. \n",
      "Inserting 5 to left side. Creating child in parent 10 with value 5. \n",
      "Inserting 15 to right side. Creating child in parent 10 with value 15. \n",
      "Inserting 12 to left side. Creating child in parent 15 with value 12. \n",
      "Inserting 18 to right side. Creating child in parent 15 with value 18.\n",
      "\n"
     ]
    },
    {
     "data": {
      "text/plain": [
       "[5, 10, 12, 15, 18]"
      ]
     },
     "execution_count": 66,
     "metadata": {},
     "output_type": "execute_result"
    }
   ],
   "source": [
    "import sys\n",
    "sys.path.append(r\"../utils\")\n",
    "from Custom_Logger import *\n",
    "\n",
    "class Tree:\n",
    "  def __init__(self, value, parent=None, messages=None, logger=None, logging_level='INFO'):\n",
    "    self.logger = Custom_Logger(level=logging_level) if logger == None else logger\n",
    "    self.left = None\n",
    "    self.right = None\n",
    "    self.value = value\n",
    "    self.parent=parent\n",
    "    self.logging_level=logging_level\n",
    "    message = f'Creating child in parent {parent} with value {value}.'\n",
    "\n",
    "    if messages:\n",
    "      messages.append(message)\n",
    "      self.messages = messages\n",
    "    else:\n",
    "      self.messages = [message]\n",
    "\n",
    "  def insert(self, value):\n",
    "    if self.value == None:\n",
    "      self.value = value\n",
    "      self.logger.info(f'Inserted value {value} to node.')\n",
    "    elif self.value > value:\n",
    "      if self.left:\n",
    "        self.left = self.left.insert(value)\n",
    "      else:\n",
    "        message = f'\\nInserting {value} to left side.'\n",
    "        self.messages.append(message)\n",
    "        self.left = Tree(value, parent=self.value, messages=self.messages, logging_level=self.logging_level)\n",
    "    elif self.value < value:\n",
    "      if self.right:\n",
    "        self.right = self.right.insert(value)\n",
    "      else:\n",
    "        message = f'\\nInserting {value} to right side.'\n",
    "        self.messages.append(message)\n",
    "        self.right = Tree(value, parent=self.value, messages=self.messages, logging_level=self.logging_level)\n",
    "    elif self.value == value:\n",
    "      self.logger.warning(f'Value {value} already exists in tree.')\n",
    "    self.logger.info(' '.join(self.messages))\n",
    "    return self\n",
    "\n",
    "def inorder(tree, result=[]):\n",
    "  if tree:\n",
    "    inorder(tree.left, result=result)\n",
    "    result.append(tree.value)\n",
    "    inorder(tree.right, result=result)\n",
    "  return result\n",
    "\n",
    "def print_node(node):\n",
    "  message = f\"\"\"\n",
    "Node value: {node.value}. \n",
    "Left child value: {node.left.value if node.left else None}. \n",
    "Right child value: {node.right.value if node.right else None}.\n",
    "  \"\"\"\n",
    "  print(message)\n",
    "\n",
    "# logging_level='WARNING'\n",
    "# logging_level='DEBUG'\n",
    "logging_level='INFO'\n",
    "tree = Tree(10, logging_level=logging_level)\n",
    "tree.insert(5)\n",
    "tree.insert(15)\n",
    "tree.insert(12)\n",
    "tree.insert(18)\n",
    "\n",
    "# print_node(tree)\n",
    "inorder(tree)\n",
    "\n",
    "    "
   ]
  },
  {
   "cell_type": "markdown",
   "metadata": {},
   "source": []
  },
  {
   "cell_type": "code",
   "execution_count": null,
   "metadata": {},
   "outputs": [],
   "source": []
  },
  {
   "cell_type": "code",
   "execution_count": null,
   "metadata": {},
   "outputs": [],
   "source": []
  },
  {
   "cell_type": "code",
   "execution_count": null,
   "metadata": {},
   "outputs": [],
   "source": []
  },
  {
   "cell_type": "code",
   "execution_count": null,
   "metadata": {},
   "outputs": [],
   "source": []
  },
  {
   "cell_type": "code",
   "execution_count": null,
   "metadata": {},
   "outputs": [],
   "source": []
  },
  {
   "cell_type": "code",
   "execution_count": null,
   "metadata": {},
   "outputs": [],
   "source": []
  },
  {
   "cell_type": "code",
   "execution_count": null,
   "metadata": {},
   "outputs": [],
   "source": []
  },
  {
   "cell_type": "code",
   "execution_count": null,
   "metadata": {},
   "outputs": [],
   "source": []
  },
  {
   "cell_type": "code",
   "execution_count": null,
   "metadata": {},
   "outputs": [],
   "source": []
  },
  {
   "cell_type": "code",
   "execution_count": null,
   "metadata": {},
   "outputs": [],
   "source": []
  },
  {
   "cell_type": "code",
   "execution_count": null,
   "metadata": {},
   "outputs": [],
   "source": []
  },
  {
   "cell_type": "code",
   "execution_count": null,
   "metadata": {},
   "outputs": [],
   "source": []
  },
  {
   "attachments": {},
   "cell_type": "markdown",
   "metadata": {},
   "source": [
    "# *End of Page*"
   ]
  }
 ],
 "metadata": {
  "kernelspec": {
   "display_name": "Python 3.9.13 64-bit",
   "language": "python",
   "name": "python3"
  },
  "language_info": {
   "codemirror_mode": {
    "name": "ipython",
    "version": 3
   },
   "file_extension": ".py",
   "mimetype": "text/x-python",
   "name": "python",
   "nbconvert_exporter": "python",
   "pygments_lexer": "ipython3",
   "version": "3.12.4"
  },
  "orig_nbformat": 4,
  "vscode": {
   "interpreter": {
    "hash": "11938c6bc6919ae2720b4d5011047913343b08a43b18698fd82dedb0d4417594"
   }
  }
 },
 "nbformat": 4,
 "nbformat_minor": 2
}
