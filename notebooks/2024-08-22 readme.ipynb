{
 "cells": [
  {
   "attachments": {},
   "cell_type": "markdown",
   "metadata": {},
   "source": [
    "# Binary Tree Problem Set\n",
    "## Problem #1\n",
    "\n",
    ">A binary tree is a data structure where each node in the tree has two, one, or no, children nodes.\n",
    ">Implement a binary tree data structure with the following functions:\n",
    ">\n",
    ">a)\tInsert a node to the binary tree\n",
    ">\n",
    ">b)\tSwap two nodes on the binary tree\n",
    ">\n",
    ">c)\tAn algorithm to Sort the binary tree (https://en.wikipedia.org/wiki/Tree_sort)\n",
    ">\n",
    ">d)\tRemove a node from the binary tree without breaking the remaining tree structure\n",
    "\n",
    "\n",
    "Run the following in the terminal for a demo of all the tasks in Problem #1.\n",
    "\n",
    "```\n",
    "python Tree.py\n",
    "```\n"
   ]
  },
  {
   "cell_type": "markdown",
   "metadata": {
    "vscode": {
     "languageId": "shellscript"
    }
   },
   "source": [
    "The code is found in `Tree.py`"
   ]
  },
  {
   "cell_type": "markdown",
   "metadata": {},
   "source": [
    "\n",
    "\n",
    "## Problem #2\n",
    ">Using your tree from Problem #1, \n",
    ">\n",
    ">a. Implement a brute force search algorithm\n",
    ">\n",
    ">b. implement a depth-first search algorithm\n",
    ">\n",
    ">c. implement a breadth first search algorithm\n",
    ">\n",
    ">d. insert a large number of nodes into your tree (10,000; 100,000; 1,000,000), measure the performance of each of your search algorithms (time to complete), comment on the Big O complexity of each (Best case, average case, worst case)\n",
    "\n",
    "Run the following in the terminal for a demo of all the tasks in Problem #2.\n",
    "\n",
    "```\n",
    "python CompareAlgorithms.py\n",
    "```"
   ]
  },
  {
   "cell_type": "markdown",
   "metadata": {},
   "source": [
    "Note that you may need to install the `pandas` package to run the script. This can be done with one the the following:\n",
    "* `pip install pandas` if `pip` is installed\n",
    "* `conda install pandas` if Anaconda is installed"
   ]
  },
  {
   "cell_type": "markdown",
   "metadata": {},
   "source": [
    "The code is found in `CompareAlgorithms.py` as well as in `Tree.py`.\n",
    "\n",
    "To determine which algorithms are significantly different from each other with greater confidence, \n",
    "you would also perform statistical tests (e.g. one-way ANOVA followed by posthoc testing)\n",
    "on the resulting data"
   ]
  }
 ],
 "metadata": {
  "kernelspec": {
   "display_name": "Python 3.9.13 64-bit",
   "language": "python",
   "name": "python3"
  },
  "language_info": {
   "codemirror_mode": {
    "name": "ipython",
    "version": 3
   },
   "file_extension": ".py",
   "mimetype": "text/x-python",
   "name": "python",
   "nbconvert_exporter": "python",
   "pygments_lexer": "ipython3",
   "version": "3.12.4"
  },
  "orig_nbformat": 4,
  "vscode": {
   "interpreter": {
    "hash": "11938c6bc6919ae2720b4d5011047913343b08a43b18698fd82dedb0d4417594"
   }
  }
 },
 "nbformat": 4,
 "nbformat_minor": 2
}
