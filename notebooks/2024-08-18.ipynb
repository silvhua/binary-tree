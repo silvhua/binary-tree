{
 "cells": [
  {
   "attachments": {},
   "cell_type": "markdown",
   "metadata": {},
   "source": [
    "# Title\n",
    "[]()"
   ]
  },
  {
   "cell_type": "code",
   "execution_count": 17,
   "metadata": {},
   "outputs": [
    {
     "name": "stderr",
     "output_type": "stream",
     "text": [
      "2024-08-18 20:47:49,940 - Custom_Logger - INFO:\n",
      "Creating child in parent None with value 10. \n",
      "Inserting 5 to left side. Creating child in parent 10 with value 5. \n",
      "Inserting 15 to right side. Creating child in parent 10 with value 15. \n",
      "Inserting 12 to left side. Creating child in parent 15 with value 12. \n",
      "Inserting 18 to right side. Creating child in parent 15 with value 18. \n",
      "\tSearching for 15 in node 10. \n",
      "Searching right. \n",
      "\tSearching for 15 in node 15. Value 15 found at generation 1 in parent 10. \n",
      "\tSearching for 12 in node 10. \n",
      "Searching right. \n",
      "\tSearching for 12 in node 15. \n",
      "Searching left. \n",
      "\tSearching for 12 in node 12. Value 12 found at generation 2 in parent 15.\n",
      "\n"
     ]
    },
    {
     "data": {
      "text/plain": [
       "{15: ['right'], 12: ['right', 'left']}"
      ]
     },
     "execution_count": 17,
     "metadata": {},
     "output_type": "execute_result"
    }
   ],
   "source": [
    "import sys\n",
    "sys.path.append(r\"../utils\")\n",
    "from Custom_Logger import *\n",
    "from copy import copy\n",
    "\n",
    "class Tree:\n",
    "  def __init__(self, value, parent=None, messages=None, logger=None, logging_level='INFO'):\n",
    "    self.logger = Custom_Logger(level=logging_level) if logger == None else logger\n",
    "    self.left = None\n",
    "    self.right = None\n",
    "    self.value = value\n",
    "    self.parent=parent\n",
    "    self.logging_level=logging_level\n",
    "    self.generation_dict = {value: 0}\n",
    "    self.directions_dict = {}\n",
    "    message = f'Creating child in parent {parent} with value {value}.'\n",
    "\n",
    "    if messages:\n",
    "      messages.append(message)\n",
    "      self.messages = messages\n",
    "    else:\n",
    "      self.messages = [message]\n",
    "\n",
    "  def insert(self, value, show_log=False):\n",
    "    if self.value == None:\n",
    "      self.value = value\n",
    "      self.logger.info(f'Inserted value {value} to node.')\n",
    "    elif self.value > value:\n",
    "      if self.left:\n",
    "        self.left = self.left.insert(value)\n",
    "      else:\n",
    "        message = f'\\nInserting {value} to left side.'\n",
    "        self.messages.append(message)\n",
    "        self.left = Tree(value, parent=self.value, messages=self.messages, logging_level=self.logging_level)\n",
    "    elif self.value < value:\n",
    "      if self.right:\n",
    "        self.right = self.right.insert(value)\n",
    "      else:\n",
    "        message = f'\\nInserting {value} to right side.'\n",
    "        self.messages.append(message)\n",
    "        self.right = Tree(value, parent=self.value, messages=self.messages, logging_level=self.logging_level)\n",
    "    elif self.value == value:\n",
    "      self.logger.warning(f'Value {value} already exists in tree.')\n",
    "    if show_log:\n",
    "      self.logger.info(' '.join(self.messages))\n",
    "    return self\n",
    "  \n",
    "  def search(self, value, root=None, parent=None, generation=0, show_log=False):\n",
    "    if (root == None):\n",
    "      root = copy(self)\n",
    "      self.directions_dict[value] = []\n",
    "    message = f'\\n\\tSearching for {value} in node {root.value}.'\n",
    "    self.messages.append(message)\n",
    "    if root.value == value:\n",
    "      message = f'Value {value} found at generation {generation} in {f\"parent {parent}\" if parent else \"root\"}.'\n",
    "      self.messages.append(message)\n",
    "      self.generation_dict[value] = generation\n",
    "      if show_log:\n",
    "        self.logger.info(' '.join(self.messages))\n",
    "      return root\n",
    "    elif (root.value > value) & (root.left != None):\n",
    "      generation += 1\n",
    "      message = f'\\nSearching left.'\n",
    "      self.messages.append(message)\n",
    "      self.directions_dict[value].append('left')\n",
    "      result = self.search(value, root=root.left, parent=root.value, generation=generation)\n",
    "    elif (root.value < value) & (root.right != None):\n",
    "      generation += 1\n",
    "      message = f'\\nSearching right.'\n",
    "      self.messages.append(message)\n",
    "      self.directions_dict[value].append('right')\n",
    "      result = self.search(value, root=root.right, parent=root.value, generation=generation)\n",
    "      \n",
    "    if show_log:\n",
    "      self.logger.info(' '.join(self.messages))\n",
    "    return result\n",
    "  \n",
    "  def swap(self, value1, value2, show_log=False):\n",
    "    subtree1 = self.search(value1, show_log=False)\n",
    "    # subtree1.value = value2\n",
    "    subtree2 = self.search(value2, show_log=show_log)\n",
    "    if self.generation_dict[value1] > self.generation_dict[value2]:\n",
    "      parent = value2\n",
    "      child = value1\n",
    "    else:\n",
    "      parent = value1\n",
    "      child = value2\n",
    "    \n",
    "    # subtree2.value = value1\n",
    "    # self = tree_copy\n",
    "    # print(self.right.value)\n",
    "    # return subtree1.value\n",
    "\n",
    "\n",
    "def inorder(tree, result=[]):\n",
    "  if tree:\n",
    "    inorder(tree.left, result=result)\n",
    "    result.append(tree.value)\n",
    "    inorder(tree.right, result=result)\n",
    "  return result\n",
    "\n",
    "def print_node(node):\n",
    "  message = f\"\"\"\n",
    "Node value: {node.value}. \n",
    "Left child value: {node.left.value if node.left else None}. \n",
    "Right child value: {node.right.value if node.right else None}.\n",
    "  \"\"\"\n",
    "  print(message)\n",
    "\n",
    "# logging_level='WARNING'\n",
    "logging_level='INFO'\n",
    "# logging_level='DEBUG'\n",
    "\n",
    "root_value = 10\n",
    "target = 12\n",
    "tree = Tree(root_value, logging_level=logging_level)\n",
    "tree.insert(5)\n",
    "tree.insert(15)\n",
    "tree.insert(12)\n",
    "tree.insert(18)\n",
    "\n",
    "# print_node(tree)\n",
    "# inorder(tree)\n",
    "\n",
    "# search_result = tree.search(target, show_log=1)\n",
    "# search_result\n",
    "\n",
    "swap_result = tree.swap(15, 12, show_log=True)\n",
    "swap_result\n",
    "tree.directions_dict\n",
    "    "
   ]
  },
  {
   "cell_type": "code",
   "execution_count": 10,
   "metadata": {},
   "outputs": [
    {
     "data": {
      "text/plain": [
       "12"
      ]
     },
     "execution_count": 10,
     "metadata": {},
     "output_type": "execute_result"
    }
   ],
   "source": [
    "tree.right.left.value"
   ]
  },
  {
   "cell_type": "code",
   "execution_count": null,
   "metadata": {},
   "outputs": [],
   "source": []
  },
  {
   "cell_type": "code",
   "execution_count": null,
   "metadata": {},
   "outputs": [],
   "source": []
  },
  {
   "cell_type": "code",
   "execution_count": null,
   "metadata": {},
   "outputs": [],
   "source": []
  },
  {
   "cell_type": "code",
   "execution_count": null,
   "metadata": {},
   "outputs": [],
   "source": []
  },
  {
   "cell_type": "code",
   "execution_count": null,
   "metadata": {},
   "outputs": [],
   "source": []
  },
  {
   "cell_type": "code",
   "execution_count": null,
   "metadata": {},
   "outputs": [],
   "source": []
  },
  {
   "cell_type": "code",
   "execution_count": null,
   "metadata": {},
   "outputs": [],
   "source": []
  },
  {
   "cell_type": "code",
   "execution_count": null,
   "metadata": {},
   "outputs": [],
   "source": []
  },
  {
   "cell_type": "code",
   "execution_count": null,
   "metadata": {},
   "outputs": [],
   "source": []
  },
  {
   "cell_type": "code",
   "execution_count": null,
   "metadata": {},
   "outputs": [],
   "source": []
  },
  {
   "cell_type": "code",
   "execution_count": null,
   "metadata": {},
   "outputs": [],
   "source": []
  },
  {
   "cell_type": "code",
   "execution_count": null,
   "metadata": {},
   "outputs": [],
   "source": []
  },
  {
   "cell_type": "code",
   "execution_count": null,
   "metadata": {},
   "outputs": [],
   "source": []
  },
  {
   "cell_type": "code",
   "execution_count": null,
   "metadata": {},
   "outputs": [],
   "source": []
  },
  {
   "cell_type": "code",
   "execution_count": null,
   "metadata": {},
   "outputs": [],
   "source": []
  },
  {
   "cell_type": "code",
   "execution_count": null,
   "metadata": {},
   "outputs": [],
   "source": []
  },
  {
   "cell_type": "code",
   "execution_count": null,
   "metadata": {},
   "outputs": [],
   "source": []
  },
  {
   "cell_type": "code",
   "execution_count": null,
   "metadata": {},
   "outputs": [],
   "source": []
  },
  {
   "cell_type": "code",
   "execution_count": null,
   "metadata": {},
   "outputs": [],
   "source": []
  },
  {
   "cell_type": "code",
   "execution_count": null,
   "metadata": {},
   "outputs": [],
   "source": []
  },
  {
   "attachments": {},
   "cell_type": "markdown",
   "metadata": {},
   "source": [
    "# *End of Page*"
   ]
  }
 ],
 "metadata": {
  "kernelspec": {
   "display_name": "Python 3.9.13 64-bit",
   "language": "python",
   "name": "python3"
  },
  "language_info": {
   "codemirror_mode": {
    "name": "ipython",
    "version": 3
   },
   "file_extension": ".py",
   "mimetype": "text/x-python",
   "name": "python",
   "nbconvert_exporter": "python",
   "pygments_lexer": "ipython3",
   "version": "3.12.4"
  },
  "orig_nbformat": 4,
  "vscode": {
   "interpreter": {
    "hash": "11938c6bc6919ae2720b4d5011047913343b08a43b18698fd82dedb0d4417594"
   }
  }
 },
 "nbformat": 4,
 "nbformat_minor": 2
}
